{
 "cells": [
  {
   "cell_type": "markdown",
   "metadata": {
    "tags": []
   },
   "source": [
    "# Python Group\n",
    "## Lab Three: Extending Logistic Regression\n",
    "### Wali Chaudhary, Bryce Shurts, & Alex Wright"
   ]
  },
  {
   "cell_type": "markdown",
   "metadata": {},
   "source": [
    "## Preparation and Overview\n",
    "\n",
    "### (Business) Use-case\n",
    "\n",
    "As is outlined by Mr. Nansal's dataset description, a salient goal of this dataset was to provide an accurate/representative dataset regarding the failures of machines and other mechanical equipment, as real datasets of such a nature (and of a sufficient quality so as to be predictive) are difficult to find in the wild.\n",
    "\n",
    "Naturally, this flows into the overall goal of having such a predictive dataset: increasing our ability to monitor potentially dangerous equipment for wear (or other failure conditions) and enact preventative maintenance or usage guidelines for them to prevent this from happening. While in some cases this is more of a financial and business continuity concern, e.g., the operation of an assembly line creating clothing, it can quickly spiral into health and safety concern, both for employees and others that are dependent on such tools doing their job accurately and safely: automated forge equipment, QA testing machines for foods and chemical products and tools used to create load-bearing equipment are just some of these possibilities.\n",
    "\n",
    "As such, it is of great importance to a business financially, morally, and legally to ensure that they have reliable methods for detecting potential and upcoming failures of equipment, which this dataset could potentially help with should an accurate & generalizable classifier be created around it.\n",
    "\n",
    "#### Citation & Acknowledgement\n",
    "\n",
    "The *Machine Predictive Maintenance Classification* dataset is liscenced under the [Creative Commons 1.0 Universal Public Domain](https://creativecommons.org/publicdomain/zero/1.0/) and was provided by Shivam Nansal on [Kaggle](https://www.kaggle.com/datasets/shivamb/machine-predictive-maintenance-classification).\n",
    "\n",
    "### Preprocessing\n",
    "\n",
    "Before we begin preprocessing, we must first break down the contents of our data and describe the nature and repersentation of each feature:\n",
    "\n",
    "- UDI - unique ID - categorical; one-hot encoded integer\n",
    "- Product ID - Another unique identifier - categorical; one-hot encoded integer\n",
    "- Type - Specifies the quality variant of the product (low, medium, high) - categorical; one-hot encoded integer\n",
    "- Air temperature [K] - Ambient temp in K at time of sampling - numerical; float\n",
    "- Process temperature [K] - Synthetic estimate of tool temperature in K generated via stochastic method - numerical; float\n",
    "- Rotational speed [rpm] - Estimated RPM of tool at time of sampling - numerical; integer\n",
    "- Torque [Nm] - Output torque of tool in Nm at time of sampling - numerical; float\n",
    "- Tool wear [min] - Amount of time the tool has been used for in minutes - numerical; integer\n",
    "- Target - Binary of whether a failure occured - categorical; binary integer/boolean\n",
    "- Failure Type - Mode of failure, if any: classification target - categorical; one-hot encoded integer"
   ]
  },
  {
   "cell_type": "code",
   "execution_count": 939,
   "metadata": {},
   "outputs": [],
   "source": [
    "# Handle all imports for notebook\n",
    "\n",
    "import pandas as pd\n",
    "from pandas import (DataFrame, Series)\n",
    "import numpy as np\n",
    "from numpy import ndarray\n",
    "from numpy.linalg import pinv\n",
    "import os\n",
    "import matplotlib\n",
    "import matplotlib.pyplot as plt\n",
    "from matplotlib import image\n",
    "import seaborn as sns\n",
    "import random\n",
    "from sklearn.preprocessing import StandardScaler\n",
    "from sklearn.model_selection import train_test_split\n",
    "from sklearn.metrics import accuracy_score\n",
    "from sklearn.metrics.pairwise import pairwise_distances\n",
    "from skimage.filters import gabor_kernel\n",
    "\n",
    "# Comparison imports for Dr. Larson's code\n",
    "from scipy.special import expit\n",
    "from scipy.optimize import fmin_bfgs\n",
    "from scipy import stats\n",
    "from scipy.stats import zscore\n",
    "from numpy import ma"
   ]
  },
  {
   "cell_type": "code",
   "execution_count": 940,
   "metadata": {},
   "outputs": [],
   "source": [
    "df: DataFrame = pd.read_csv(\"predictive_maintenance.csv\")"
   ]
  },
  {
   "cell_type": "code",
   "execution_count": 941,
   "metadata": {},
   "outputs": [
    {
     "data": {
      "text/html": [
       "<div>\n",
       "<style scoped>\n",
       "    .dataframe tbody tr th:only-of-type {\n",
       "        vertical-align: middle;\n",
       "    }\n",
       "\n",
       "    .dataframe tbody tr th {\n",
       "        vertical-align: top;\n",
       "    }\n",
       "\n",
       "    .dataframe thead th {\n",
       "        text-align: right;\n",
       "    }\n",
       "</style>\n",
       "<table border=\"1\" class=\"dataframe\">\n",
       "  <thead>\n",
       "    <tr style=\"text-align: right;\">\n",
       "      <th></th>\n",
       "      <th>UDI</th>\n",
       "      <th>Product ID</th>\n",
       "      <th>Type</th>\n",
       "      <th>Air temperature [K]</th>\n",
       "      <th>Process temperature [K]</th>\n",
       "      <th>Rotational speed [rpm]</th>\n",
       "      <th>Torque [Nm]</th>\n",
       "      <th>Tool wear [min]</th>\n",
       "      <th>Target</th>\n",
       "      <th>Failure Type</th>\n",
       "    </tr>\n",
       "  </thead>\n",
       "  <tbody>\n",
       "    <tr>\n",
       "      <th>0</th>\n",
       "      <td>1</td>\n",
       "      <td>M14860</td>\n",
       "      <td>M</td>\n",
       "      <td>298.1</td>\n",
       "      <td>308.6</td>\n",
       "      <td>1551</td>\n",
       "      <td>42.8</td>\n",
       "      <td>0</td>\n",
       "      <td>0</td>\n",
       "      <td>No Failure</td>\n",
       "    </tr>\n",
       "    <tr>\n",
       "      <th>1</th>\n",
       "      <td>2</td>\n",
       "      <td>L47181</td>\n",
       "      <td>L</td>\n",
       "      <td>298.2</td>\n",
       "      <td>308.7</td>\n",
       "      <td>1408</td>\n",
       "      <td>46.3</td>\n",
       "      <td>3</td>\n",
       "      <td>0</td>\n",
       "      <td>No Failure</td>\n",
       "    </tr>\n",
       "    <tr>\n",
       "      <th>2</th>\n",
       "      <td>3</td>\n",
       "      <td>L47182</td>\n",
       "      <td>L</td>\n",
       "      <td>298.1</td>\n",
       "      <td>308.5</td>\n",
       "      <td>1498</td>\n",
       "      <td>49.4</td>\n",
       "      <td>5</td>\n",
       "      <td>0</td>\n",
       "      <td>No Failure</td>\n",
       "    </tr>\n",
       "    <tr>\n",
       "      <th>3</th>\n",
       "      <td>4</td>\n",
       "      <td>L47183</td>\n",
       "      <td>L</td>\n",
       "      <td>298.2</td>\n",
       "      <td>308.6</td>\n",
       "      <td>1433</td>\n",
       "      <td>39.5</td>\n",
       "      <td>7</td>\n",
       "      <td>0</td>\n",
       "      <td>No Failure</td>\n",
       "    </tr>\n",
       "    <tr>\n",
       "      <th>4</th>\n",
       "      <td>5</td>\n",
       "      <td>L47184</td>\n",
       "      <td>L</td>\n",
       "      <td>298.2</td>\n",
       "      <td>308.7</td>\n",
       "      <td>1408</td>\n",
       "      <td>40.0</td>\n",
       "      <td>9</td>\n",
       "      <td>0</td>\n",
       "      <td>No Failure</td>\n",
       "    </tr>\n",
       "  </tbody>\n",
       "</table>\n",
       "</div>"
      ],
      "text/plain": [
       "   UDI Product ID Type  Air temperature [K]  Process temperature [K]  \\\n",
       "0    1     M14860    M                298.1                    308.6   \n",
       "1    2     L47181    L                298.2                    308.7   \n",
       "2    3     L47182    L                298.1                    308.5   \n",
       "3    4     L47183    L                298.2                    308.6   \n",
       "4    5     L47184    L                298.2                    308.7   \n",
       "\n",
       "   Rotational speed [rpm]  Torque [Nm]  Tool wear [min]  Target Failure Type  \n",
       "0                    1551         42.8                0       0   No Failure  \n",
       "1                    1408         46.3                3       0   No Failure  \n",
       "2                    1498         49.4                5       0   No Failure  \n",
       "3                    1433         39.5                7       0   No Failure  \n",
       "4                    1408         40.0                9       0   No Failure  "
      ]
     },
     "execution_count": 941,
     "metadata": {},
     "output_type": "execute_result"
    }
   ],
   "source": [
    "df.head()"
   ]
  },
  {
   "cell_type": "markdown",
   "metadata": {},
   "source": [
    "Immediately, we can determine that `UDI` and `Product ID` will not be useful to us, as we do not care about features that are redundant in function to the given row ID (i.e., features that are unique to each sample)"
   ]
  },
  {
   "cell_type": "code",
   "execution_count": 942,
   "metadata": {},
   "outputs": [
    {
     "data": {
      "text/html": [
       "<div>\n",
       "<style scoped>\n",
       "    .dataframe tbody tr th:only-of-type {\n",
       "        vertical-align: middle;\n",
       "    }\n",
       "\n",
       "    .dataframe tbody tr th {\n",
       "        vertical-align: top;\n",
       "    }\n",
       "\n",
       "    .dataframe thead th {\n",
       "        text-align: right;\n",
       "    }\n",
       "</style>\n",
       "<table border=\"1\" class=\"dataframe\">\n",
       "  <thead>\n",
       "    <tr style=\"text-align: right;\">\n",
       "      <th></th>\n",
       "      <th>Type</th>\n",
       "      <th>Air temperature [K]</th>\n",
       "      <th>Process temperature [K]</th>\n",
       "      <th>Rotational speed [rpm]</th>\n",
       "      <th>Torque [Nm]</th>\n",
       "      <th>Tool wear [min]</th>\n",
       "      <th>Target</th>\n",
       "      <th>Failure Type</th>\n",
       "    </tr>\n",
       "  </thead>\n",
       "  <tbody>\n",
       "    <tr>\n",
       "      <th>0</th>\n",
       "      <td>M</td>\n",
       "      <td>298.1</td>\n",
       "      <td>308.6</td>\n",
       "      <td>1551</td>\n",
       "      <td>42.8</td>\n",
       "      <td>0</td>\n",
       "      <td>0</td>\n",
       "      <td>No Failure</td>\n",
       "    </tr>\n",
       "    <tr>\n",
       "      <th>1</th>\n",
       "      <td>L</td>\n",
       "      <td>298.2</td>\n",
       "      <td>308.7</td>\n",
       "      <td>1408</td>\n",
       "      <td>46.3</td>\n",
       "      <td>3</td>\n",
       "      <td>0</td>\n",
       "      <td>No Failure</td>\n",
       "    </tr>\n",
       "    <tr>\n",
       "      <th>2</th>\n",
       "      <td>L</td>\n",
       "      <td>298.1</td>\n",
       "      <td>308.5</td>\n",
       "      <td>1498</td>\n",
       "      <td>49.4</td>\n",
       "      <td>5</td>\n",
       "      <td>0</td>\n",
       "      <td>No Failure</td>\n",
       "    </tr>\n",
       "    <tr>\n",
       "      <th>3</th>\n",
       "      <td>L</td>\n",
       "      <td>298.2</td>\n",
       "      <td>308.6</td>\n",
       "      <td>1433</td>\n",
       "      <td>39.5</td>\n",
       "      <td>7</td>\n",
       "      <td>0</td>\n",
       "      <td>No Failure</td>\n",
       "    </tr>\n",
       "    <tr>\n",
       "      <th>4</th>\n",
       "      <td>L</td>\n",
       "      <td>298.2</td>\n",
       "      <td>308.7</td>\n",
       "      <td>1408</td>\n",
       "      <td>40.0</td>\n",
       "      <td>9</td>\n",
       "      <td>0</td>\n",
       "      <td>No Failure</td>\n",
       "    </tr>\n",
       "  </tbody>\n",
       "</table>\n",
       "</div>"
      ],
      "text/plain": [
       "  Type  Air temperature [K]  Process temperature [K]  Rotational speed [rpm]  \\\n",
       "0    M                298.1                    308.6                    1551   \n",
       "1    L                298.2                    308.7                    1408   \n",
       "2    L                298.1                    308.5                    1498   \n",
       "3    L                298.2                    308.6                    1433   \n",
       "4    L                298.2                    308.7                    1408   \n",
       "\n",
       "   Torque [Nm]  Tool wear [min]  Target Failure Type  \n",
       "0         42.8                0       0   No Failure  \n",
       "1         46.3                3       0   No Failure  \n",
       "2         49.4                5       0   No Failure  \n",
       "3         39.5                7       0   No Failure  \n",
       "4         40.0                9       0   No Failure  "
      ]
     },
     "execution_count": 942,
     "metadata": {},
     "output_type": "execute_result"
    }
   ],
   "source": [
    "df.drop([\"UDI\", \"Product ID\"], axis=1, inplace=True)\n",
    "df.head()"
   ]
  },
  {
   "cell_type": "markdown",
   "metadata": {},
   "source": [
    "We can also remove the `Target` feature, as we are looking to solve a multiclass classification problem and leaving this feature in will simply result in leakage where the classifier does not learn the expected relationship between the other features and `Failure Type`."
   ]
  },
  {
   "cell_type": "code",
   "execution_count": 943,
   "metadata": {},
   "outputs": [
    {
     "data": {
      "text/html": [
       "<div>\n",
       "<style scoped>\n",
       "    .dataframe tbody tr th:only-of-type {\n",
       "        vertical-align: middle;\n",
       "    }\n",
       "\n",
       "    .dataframe tbody tr th {\n",
       "        vertical-align: top;\n",
       "    }\n",
       "\n",
       "    .dataframe thead th {\n",
       "        text-align: right;\n",
       "    }\n",
       "</style>\n",
       "<table border=\"1\" class=\"dataframe\">\n",
       "  <thead>\n",
       "    <tr style=\"text-align: right;\">\n",
       "      <th></th>\n",
       "      <th>Type</th>\n",
       "      <th>Air temperature [K]</th>\n",
       "      <th>Process temperature [K]</th>\n",
       "      <th>Rotational speed [rpm]</th>\n",
       "      <th>Torque [Nm]</th>\n",
       "      <th>Tool wear [min]</th>\n",
       "      <th>Failure Type</th>\n",
       "    </tr>\n",
       "  </thead>\n",
       "  <tbody>\n",
       "    <tr>\n",
       "      <th>0</th>\n",
       "      <td>M</td>\n",
       "      <td>298.1</td>\n",
       "      <td>308.6</td>\n",
       "      <td>1551</td>\n",
       "      <td>42.8</td>\n",
       "      <td>0</td>\n",
       "      <td>No Failure</td>\n",
       "    </tr>\n",
       "    <tr>\n",
       "      <th>1</th>\n",
       "      <td>L</td>\n",
       "      <td>298.2</td>\n",
       "      <td>308.7</td>\n",
       "      <td>1408</td>\n",
       "      <td>46.3</td>\n",
       "      <td>3</td>\n",
       "      <td>No Failure</td>\n",
       "    </tr>\n",
       "    <tr>\n",
       "      <th>2</th>\n",
       "      <td>L</td>\n",
       "      <td>298.1</td>\n",
       "      <td>308.5</td>\n",
       "      <td>1498</td>\n",
       "      <td>49.4</td>\n",
       "      <td>5</td>\n",
       "      <td>No Failure</td>\n",
       "    </tr>\n",
       "    <tr>\n",
       "      <th>3</th>\n",
       "      <td>L</td>\n",
       "      <td>298.2</td>\n",
       "      <td>308.6</td>\n",
       "      <td>1433</td>\n",
       "      <td>39.5</td>\n",
       "      <td>7</td>\n",
       "      <td>No Failure</td>\n",
       "    </tr>\n",
       "    <tr>\n",
       "      <th>4</th>\n",
       "      <td>L</td>\n",
       "      <td>298.2</td>\n",
       "      <td>308.7</td>\n",
       "      <td>1408</td>\n",
       "      <td>40.0</td>\n",
       "      <td>9</td>\n",
       "      <td>No Failure</td>\n",
       "    </tr>\n",
       "  </tbody>\n",
       "</table>\n",
       "</div>"
      ],
      "text/plain": [
       "  Type  Air temperature [K]  Process temperature [K]  Rotational speed [rpm]  \\\n",
       "0    M                298.1                    308.6                    1551   \n",
       "1    L                298.2                    308.7                    1408   \n",
       "2    L                298.1                    308.5                    1498   \n",
       "3    L                298.2                    308.6                    1433   \n",
       "4    L                298.2                    308.7                    1408   \n",
       "\n",
       "   Torque [Nm]  Tool wear [min] Failure Type  \n",
       "0         42.8                0   No Failure  \n",
       "1         46.3                3   No Failure  \n",
       "2         49.4                5   No Failure  \n",
       "3         39.5                7   No Failure  \n",
       "4         40.0                9   No Failure  "
      ]
     },
     "execution_count": 943,
     "metadata": {},
     "output_type": "execute_result"
    }
   ],
   "source": [
    "df.drop(\"Target\", axis=1, inplace=True)\n",
    "df.head()"
   ]
  },
  {
   "cell_type": "markdown",
   "metadata": {},
   "source": [
    "Next, we can check for any invalid data, such as missing/null entries and non-sensical numbers (negative time or torque)."
   ]
  },
  {
   "cell_type": "code",
   "execution_count": 944,
   "metadata": {},
   "outputs": [
    {
     "name": "stdout",
     "output_type": "stream",
     "text": [
      "Missing entries: \n",
      "Type                       0\n",
      "Air temperature [K]        0\n",
      "Process temperature [K]    0\n",
      "Rotational speed [rpm]     0\n",
      "Torque [Nm]                0\n",
      "Tool wear [min]            0\n",
      "Failure Type               0\n",
      "dtype: int64\n",
      "\n",
      "Invalid values: \n",
      "Torque: False\n",
      "Tool wear: False\n"
     ]
    }
   ],
   "source": [
    "print(\"Missing entries: \\n\" + str(df.isna().sum()))\n",
    "\n",
    "print(\"\\nInvalid values: \\nTorque: \" + str((df[\"Torque [Nm]\"].values < 0).any())\n",
    "      + \"\\nTool wear: \" + str((df[\"Tool wear [min]\"].values < 0).any()))"
   ]
  },
  {
   "cell_type": "markdown",
   "metadata": {},
   "source": [
    "Now that we have checked the data and ensured its validity, we can move on to our dummy encoding of our `Type` feature & label encoding our `Failure Type` target."
   ]
  },
  {
   "cell_type": "code",
   "execution_count": 945,
   "metadata": {
    "tags": []
   },
   "outputs": [
    {
     "data": {
      "text/html": [
       "<div>\n",
       "<style scoped>\n",
       "    .dataframe tbody tr th:only-of-type {\n",
       "        vertical-align: middle;\n",
       "    }\n",
       "\n",
       "    .dataframe tbody tr th {\n",
       "        vertical-align: top;\n",
       "    }\n",
       "\n",
       "    .dataframe thead th {\n",
       "        text-align: right;\n",
       "    }\n",
       "</style>\n",
       "<table border=\"1\" class=\"dataframe\">\n",
       "  <thead>\n",
       "    <tr style=\"text-align: right;\">\n",
       "      <th></th>\n",
       "      <th>Air temperature [K]</th>\n",
       "      <th>Process temperature [K]</th>\n",
       "      <th>Rotational speed [rpm]</th>\n",
       "      <th>Torque [Nm]</th>\n",
       "      <th>Tool wear [min]</th>\n",
       "      <th>Failure Type</th>\n",
       "      <th>H</th>\n",
       "      <th>L</th>\n",
       "      <th>M</th>\n",
       "    </tr>\n",
       "  </thead>\n",
       "  <tbody>\n",
       "    <tr>\n",
       "      <th>0</th>\n",
       "      <td>298.1</td>\n",
       "      <td>308.6</td>\n",
       "      <td>1551</td>\n",
       "      <td>42.8</td>\n",
       "      <td>0</td>\n",
       "      <td>1</td>\n",
       "      <td>0</td>\n",
       "      <td>0</td>\n",
       "      <td>1</td>\n",
       "    </tr>\n",
       "    <tr>\n",
       "      <th>1</th>\n",
       "      <td>298.2</td>\n",
       "      <td>308.7</td>\n",
       "      <td>1408</td>\n",
       "      <td>46.3</td>\n",
       "      <td>3</td>\n",
       "      <td>1</td>\n",
       "      <td>0</td>\n",
       "      <td>1</td>\n",
       "      <td>0</td>\n",
       "    </tr>\n",
       "    <tr>\n",
       "      <th>2</th>\n",
       "      <td>298.1</td>\n",
       "      <td>308.5</td>\n",
       "      <td>1498</td>\n",
       "      <td>49.4</td>\n",
       "      <td>5</td>\n",
       "      <td>1</td>\n",
       "      <td>0</td>\n",
       "      <td>1</td>\n",
       "      <td>0</td>\n",
       "    </tr>\n",
       "    <tr>\n",
       "      <th>3</th>\n",
       "      <td>298.2</td>\n",
       "      <td>308.6</td>\n",
       "      <td>1433</td>\n",
       "      <td>39.5</td>\n",
       "      <td>7</td>\n",
       "      <td>1</td>\n",
       "      <td>0</td>\n",
       "      <td>1</td>\n",
       "      <td>0</td>\n",
       "    </tr>\n",
       "    <tr>\n",
       "      <th>4</th>\n",
       "      <td>298.2</td>\n",
       "      <td>308.7</td>\n",
       "      <td>1408</td>\n",
       "      <td>40.0</td>\n",
       "      <td>9</td>\n",
       "      <td>1</td>\n",
       "      <td>0</td>\n",
       "      <td>1</td>\n",
       "      <td>0</td>\n",
       "    </tr>\n",
       "  </tbody>\n",
       "</table>\n",
       "</div>"
      ],
      "text/plain": [
       "   Air temperature [K]  Process temperature [K]  Rotational speed [rpm]  \\\n",
       "0                298.1                    308.6                    1551   \n",
       "1                298.2                    308.7                    1408   \n",
       "2                298.1                    308.5                    1498   \n",
       "3                298.2                    308.6                    1433   \n",
       "4                298.2                    308.7                    1408   \n",
       "\n",
       "   Torque [Nm]  Tool wear [min]  Failure Type  H  L  M  \n",
       "0         42.8                0             1  0  0  1  \n",
       "1         46.3                3             1  0  1  0  \n",
       "2         49.4                5             1  0  1  0  \n",
       "3         39.5                7             1  0  1  0  \n",
       "4         40.0                9             1  0  1  0  "
      ]
     },
     "execution_count": 945,
     "metadata": {},
     "output_type": "execute_result"
    }
   ],
   "source": [
    "df = pd.concat([df, pd.get_dummies(df[\"Type\"])], axis=1)\n",
    "df.drop(\"Type\", axis=1, inplace=True)\n",
    "df[\"Failure Type\"] = (df[\"Failure Type\"].astype(\"category\")).cat.codes\n",
    "df.head()"
   ]
  },
  {
   "cell_type": "markdown",
   "metadata": {},
   "source": [
    "## Exceptional Work (Feature Extraction)"
   ]
  },
  {
   "cell_type": "code",
   "execution_count": 947,
   "metadata": {},
   "outputs": [
    {
     "name": "stdout",
     "output_type": "stream",
     "text": [
      "(10000, 384)\n"
     ]
    },
    {
     "data": {
      "image/png": "[encoded data removed]",
      "text/plain": [
       "<Figure size 3000x3000 with 2 Axes>"
      ]
     },
     "metadata": {},
     "output_type": "display_data"
    }
   ],
   "source": [
    "# Gabor Calculation\n",
    "from scipy import ndimage as ndi\n",
    "\n",
    "original_shape = (1,8)\n",
    "rand_idx = 3\n",
    "acc_logistic = None\n",
    "images_2 = df.drop(\"Failure Type\", axis=1).to_numpy()\n",
    "y = df[\"Failure Type\"].to_numpy()\n",
    "\n",
    "kernels = []\n",
    "sigma_vals = (1, 3, 5)\n",
    "frequencies = (0.05, 0.15, 0.25, 0.35)\n",
    "for theta in range(num_orientations := 8):\n",
    "    theta = theta / 8. * np.pi    \n",
    "    for sigma in sigma_vals:\n",
    "        for frequency in frequencies: \n",
    "            kernel = np.real(gabor_kernel(frequency, theta=theta, sigma_x=sigma, sigma_y=sigma))\n",
    "            kernels.append(kernel)\n",
    "def compute_gabor(row, kernels, shape):\n",
    "    feats = np.zeros((len(kernels), 4), dtype=np.double)\n",
    "    for k, kernel in enumerate(kernels):\n",
    "        filtered = ndi.convolve(row.reshape(shape), kernel, mode='wrap')\n",
    "        _,_,feats[k,0],feats[k,1],feats[k,2],feats[k,3] = stats.describe(filtered.reshape(-1))\n",
    "        # mean, var, skew, kurt    \n",
    "    return feats.reshape(-1)\n",
    "# gabr_feature = compute_gabor(images_2[rand_idx], kernels, original_shape)\n",
    "gabr_feature = compute_gabor(images_2[rand_idx], kernels, original_shape)\n",
    "gabr_feature.shape\n",
    "\n",
    "gabor_res = np.array([ compute_gabor(row, kernels, original_shape) for row in images_2 ])\n",
    "\n",
    "# Pairwise Distances & Heatmap\n",
    "gabor_pairwise = pairwise_distances(gabor_res)\n",
    "scaler = StandardScaler()\n",
    "scaled_pairwise_gabor_imgs = scaler.fit_transform(X=gabor_res, y=None)\n",
    "print(scaled_pairwise_gabor_imgs.shape)\n",
    "plt.figure(figsize=(30,30))\n",
    "sns.heatmap(scaled_pairwise_gabor_imgs[:155, :155], linewidth=.5, cmap=\"crest\")\n",
    "plt.show()"
   ]
  },
  {
   "cell_type": "markdown",
   "metadata": {},
   "source": [
    "There exist at least a couple rows with high pairwise distances, meaning that there are potentially outliers to be removed from the data because they do not offer much contribution for our classification purposes. We can use Gabor filters as a kind of heuristic to detect how many outlying features we may have to help us decide in whether we should use L1 or L2 regularization. L1 Regularization allows us to do some feature selection by sparsifying the weights by zeroing out the weights that aren't contributing much to the classification (aka not helping the error calculation become smaller). L2 Regularization penalizes the whole dataset to get rid of outliers and normalizes the amount that any given feature can contribute to an optimization algorithm such as gradient descent. However, the problem is that because L2 Regularization uses Sum of Squared Errors it can start to overly penalize the dataset when it starts to factor in the outliers; it will take those outliers into account and start to overpenalize which causes other features which are more relevant to potentially be masked out because they're so small. The Gabor filters allow us to determine which path of regularization may be a good choice depending on the feature extraction results, we can detect outliers. \n"
   ]
  },
  {
   "cell_type": "markdown",
   "metadata": {},
   "source": [
    "### Test/Training Split\n",
    "Finally, we are presented with the option of splitting our data into a training & test split. In our case we believe this is the appropiate action to take, as we can train our agent on around 8,000 samples of our data & then cross-validate that it has learned the ground truth relationship between features & the target by attempting to inference the agents against the test data. If the accuracy drops significantly when testing against this test data, then we will know that our model has overfit the data (or otherwise failed to establish the relationship between the feature vectors & the classification vector)."
   ]
  },
  {
   "cell_type": "code",
   "execution_count": 77,
   "metadata": {},
   "outputs": [],
   "source": [
    "df_train, df_test = train_test_split(df, test_size=0.2)"
   ]
  },
  {
   "cell_type": "markdown",
   "metadata": {},
   "source": [
    "## Modeling"
   ]
  },
  {
   "cell_type": "markdown",
   "metadata": {},
   "source": [
    "### One-Verus-All Logistic Regression"
   ]
  },
  {
   "cell_type": "code",
   "execution_count": 79,
   "metadata": {},
   "outputs": [],
   "source": [
    "class binary_logistic_classifier:\n",
    "    def __init__(self, learn_rate: float, iterations: int=20, constant: float=0.001, penalty: str=None) -> None:\n",
    "        self.learn_rate = learn_rate\n",
    "        self.iterations = iterations\n",
    "        self.constant = constant\n",
    "        self.penalty = penalty\n",
    "    \n",
    "    @staticmethod\n",
    "    def _relu(theta: ndarray) -> ndarray:\n",
    "        # ∀x∈θ max(0, x)\n",
    "        return np.maximum(0, theta)\n",
    "    \n",
    "    @staticmethod\n",
    "    def _add_bias(data: ndarray) -> ndarray:\n",
    "        return np.hstack((np.ones((data.shape[0], 1)), data))\n",
    "    \n",
    "    def _penalty(self, gradient: ndarray) -> ndarray:\n",
    "        if self.penalty == None:\n",
    "            return gradient\n",
    "        # LASSO\n",
    "        elif self.penalty == \"L1\":\n",
    "            return gradient + self.constant * np.sum(np.abs(self.w_))\n",
    "        # RIDGE\n",
    "        elif self.penalty == \"L2\":\n",
    "            return gradient + self.constant * np.sum(self.w_**2)\n",
    "        # Elastic Net\n",
    "        elif self.penalty == \"both\":\n",
    "            return gradient + self.constant * np.sum(self.w_**2) + self.constant * np.sum(np.abs(self.w_))\n",
    "        else:\n",
    "            raise Exception(\"'\" + str(self.penalty) +\"' not understood.\")\n",
    "    \n",
    "    \n",
    "    def predict_probability(self, data: ndarray, add_bias: bool=True) -> float:\n",
    "        return self._relu((self._add_bias(data) if add_bias else data) @ self.w_)\n",
    "        \n",
    "    def predict(self, X: ndarray):\n",
    "        return self.predict_probability(X) > 0.5\n",
    "    \n",
    "    def fit(self, data: ndarray, target: ndarray) -> None:\n",
    "        data_bias = self._add_bias(data)\n",
    "        num_samples = data_bias.shape[0] # Rows\n",
    "        num_features = data_bias.shape[1] # Columns\n",
    "        self.w_ = np.zeros((num_features, 1))\n",
    "        \n",
    "        for _ in range(self.iterations):\n",
    "            gradient = self._get_gradient(data_bias, target)\n",
    "            gradient = self._penalty(gradient)\n",
    "            self.w_ -= self.learn_rate * gradient\n",
    "            \n",
    "class multiclass_logistic_classifier:\n",
    "    def __init__(self, solver: type[binary_logistic_classifier], learn_rate: float, iterations: int=20, constant: float=0.001, penalty: str=None) -> None:\n",
    "        self.solver = solver\n",
    "        self.learn_rate = learn_rate\n",
    "        self.iterations = iterations\n",
    "        self.constant = constant\n",
    "        self.penalty = penalty\n",
    "        \n",
    "    def predict_probabilities(self, X: ndarray) -> float:\n",
    "        probabilities = []\n",
    "        for classifier in self.fit_classifiers:\n",
    "            probabilities.append(classifier.predict_probability(X).reshape((len(X), 1)))\n",
    "        return np.hstack(probabilities)\n",
    "        \n",
    "    def predict(self, X: ndarray):\n",
    "        print(self.w_)\n",
    "        return np.argmax(self.predict_probabilities(X), axis=1)\n",
    "        \n",
    "    def fit(self, data: ndarray, targets: ndarray) -> None:\n",
    "        num_samples = data.shape[0] # Rows\n",
    "        num_features = data.shape[1] # Columns\n",
    "        self.unique_target_classes = np.sort(np.unique(targets))\n",
    "        num_target_classes = len(self.unique_target_classes)\n",
    "        self.fit_classifiers = []\n",
    "        \n",
    "        for _, target in enumerate(self.unique_target_classes):\n",
    "            target_binary = np.array(targets == target).astype(int)\n",
    "            \n",
    "            classifier = self.solver(learn_rate=self.learn_rate, iterations=self.iterations, constant=self.constant, penalty=self.penalty)\n",
    "            classifier.fit(data, target_binary)\n",
    "            \n",
    "            self.fit_classifiers.append(classifier)\n",
    "        self.w_ = np.hstack([classifier.w_ for classifier in self.fit_classifiers]).T"
   ]
  },
  {
   "cell_type": "code",
   "execution_count": 80,
   "metadata": {},
   "outputs": [],
   "source": [
    "class steepest_descent(binary_logistic_classifier):\n",
    "    def _get_gradient(self, X: ndarray, y: ndarray) -> ndarray:\n",
    "        ydiff = y - self.predict_probability(X, add_bias=False).ravel() # get y difference\n",
    "        gradient = np.mean(X * ydiff[:,np.newaxis], axis=0) # compute gradient using all the training examples\n",
    "        gradient = gradient.reshape(self.w_.shape)\n",
    "        \n",
    "        return gradient\n",
    "        \n",
    "class stochastic_descent(binary_logistic_classifier):\n",
    "    def _get_gradient(self, X: ndarray, y: ndarray) -> ndarray:\n",
    "        idx = int(np.random.rand()*len(y)) # grab random instance\n",
    "        ydiff = y[idx]-self.predict_probability(X[idx],add_bias=False) # get y difference (now scalar)\n",
    "        gradient = X[idx] * ydiff[:,np.newaxis] # make ydiff a column vector and multiply through\n",
    "        gradient = gradient.reshape(self.w_.shape)\n",
    "        \n",
    "        return gradient\n",
    "        \n",
    "class newton_method(binary_logistic_classifier):\n",
    "    \n",
    "    def _calculate_hessian(self, X: ndarray, y: ndarray) -> ndarray:\n",
    "            pred_weights = self.predict_probability(X, add_bias=False).ravel()\n",
    "            relu = self._relu(pred_weights)\n",
    "            grad = relu * (1 - relu)\n",
    "            hessian = grad @ X ** 2\n",
    "            return hessian\n",
    "    \n",
    "    def _get_gradient(self, X: ndarray, y: ndarray) -> ndarray: \n",
    "        pred_weights = self.predict_probability(X, add_bias=False).ravel()\n",
    "        ydiff = y - pred_weights\n",
    "        hessian = self._calculate_hessian(X, y)\n",
    "        \n",
    "        gradient = np.sum(X * ydiff[:, np.newaxis], axis=0)\n",
    "        gradient = gradient.reshape(self.w_.shape)\n",
    "        return pinv(hessian + np.outer(gradient, gradient)) @ gradient\n",
    "\n",
    "# The steps for this are detailed in the notebook. Implement them. That is, use BFGS without the use of an external package (for example, do not use SciPy).\n",
    "# I can only assume that this does not include the restriction of not using numpy...\n",
    "class bfgs(binary_logistic_classifier):\n",
    "\n",
    "    def _get_gradient(self, data: ndarray, target: ndarray) -> ndarray:\n",
    "        target_delta = target - self.predict_probability(data, add_bias=False).ravel()\n",
    "        gradient = np.mean(data * target_delta[:, np.newaxis], axis=0)\n",
    "        gradient = gradient.reshape(self.w_.shape)\n",
    "        return -self._penalty(gradient)\n",
    "    \n",
    "    def fit(self, data: ndarray, target: ndarray) -> None:\n",
    "        data_bias = self._add_bias(data)\n",
    "        num_features = data_bias.shape[1] # Columns\n",
    "        self.w_ = np.zeros((num_features, 1)).flatten()\n",
    "        \n",
    "        # 1. Initial Approx. Hessian for k = 0 is an identity matrix\n",
    "        k = 0\n",
    "        H_k = np.identity(len(self.w_))\n",
    "        Hi_k = H_k # Inverse of I is I\n",
    "        \n",
    "        while(np.amax(np.abs(self._get_gradient(data_bias, target))) > 1e-03 and k < self.iterations):\n",
    "            # 2. Find update diretion p_k\n",
    "            gradient = self._get_gradient(data_bias, target)\n",
    "            p_k = -Hi_k @ gradient\n",
    "            # 3. Update w\n",
    "            new_weights = self.w_ + self.learn_rate * p_k\n",
    "            # 4. Save scaled direction\n",
    "            s_k = self.learn_rate * p_k\n",
    "            # 5a. Approximate change in derivative\n",
    "            self.w_ = new_weights\n",
    "            v_k = self._get_gradient(data_bias, target) - gradient\n",
    "            # 5b. Define u from above\n",
    "            #u_k = v_k - (H_k @ s_k)\n",
    "            # 6. Redefine approx. Hessian\n",
    "            #H_k = H_k + ((v_k @ v_k.T)/(v_k.T @ s_k)) - (((H_k @ s_k) @ (s_k.T @ H_k))/(s_k.T @ H_k @ s_k))\n",
    "            # 7. Approximate Inverse Hessian via Sherman Morris\n",
    "            numerator_one = (s_k[np.newaxis, :] @ v_k[:, np.newaxis] + v_k[np.newaxis, :] @ Hi_k @ v_k[:, np.newaxis]) * (s_k[:, np.newaxis] @ s_k[np.newaxis, :])\n",
    "            denominator_one = (s_k[np.newaxis, :] @ v_k[:, np.newaxis])**2\n",
    "            numerator_two = Hi_k @ v_k[:, np.newaxis] @ s_k[np.newaxis, :] + s_k[:, np.newaxis] @ v_k[np.newaxis, :] @ Hi_k\n",
    "            denominator_two = s_k[np.newaxis, :] @ v_k[:, np.newaxis]\n",
    "            Hi_k = Hi_k + numerator_one/denominator_one - numerator_two/denominator_two\n",
    "            # 8. Update k & start from step 2\n",
    "            k = k + 1\n",
    "            \n",
    "        self.w_ = self.w_.reshape((num_features,1))"
   ]
  },
  {
   "cell_type": "markdown",
   "metadata": {
    "tags": []
   },
   "source": [
    "### Training"
   ]
  },
  {
   "cell_type": "code",
   "execution_count": 134,
   "metadata": {},
   "outputs": [
    {
     "name": "stdout",
     "output_type": "stream",
     "text": [
      "[[-2.20010249e-04 -3.41531352e-02 -3.50795102e-02 -1.50618760e-01\n",
      "  -6.06613525e-03 -1.27337602e-02 -1.17510249e-04 -1.82510249e-04\n",
      "  -1.35010249e-04]\n",
      " [-1.96614779e-02 -2.90556685e+00 -3.00229823e+00 -1.48794227e+01\n",
      "  -3.92567853e-01 -1.03972023e+00 -1.09902279e-02 -1.57502279e-02\n",
      "  -1.29389779e-02]\n",
      " [-1.60496094e-04 -2.40834961e-02 -2.48967461e-02 -1.08346746e-01\n",
      "  -4.63249609e-03 -1.67342461e-02 -8.17460937e-05 -1.56746094e-04\n",
      "  -8.29960937e-05]\n",
      " [-1.86479054e-04 -2.63486041e-02 -2.72153541e-02 -1.52821479e-01\n",
      "  -4.40647905e-03 -8.95397905e-03 -1.02729054e-04 -1.52729054e-04\n",
      "  -1.28979054e-04]\n",
      " [-4.05514515e-05 -6.03592645e-03 -6.23467645e-03 -2.99555515e-02\n",
      "  -8.73926452e-04 -2.52305145e-03 -2.43014515e-05 -3.43014515e-05\n",
      "  -2.30514515e-05]\n",
      " [-1.00335313e-04 -1.43198353e-02 -1.47905853e-02 -7.60278353e-02\n",
      "  -1.77208531e-03 -1.03890853e-02 -6.03353126e-05 -7.78353126e-05\n",
      "  -6.78353126e-05]]\n",
      "Accuracy: 0.01125\n",
      "CPU times: user 20.8 ms, sys: 9.38 ms, total: 30.2 ms\n",
      "Wall time: 22.5 ms\n"
     ]
    }
   ],
   "source": [
    "%%time\n",
    "# ds = load_iris()\n",
    "X = df_train.drop(\"Failure Type\", axis=1)\n",
    "y = df_train[\"Failure Type\"]\n",
    "custom_steepest_descent_lr = multiclass_logistic_classifier(solver=steepest_descent, learn_rate=0.001, iterations=10, constant=0.1, penalty=\"L1\")\n",
    "custom_steepest_descent_lr.fit(X, y)\n",
    "y_hat = custom_steepest_descent_lr.predict(X)\n",
    "print(\"Accuracy: \" + str(accuracy_score(y, y_hat)))"
   ]
  },
  {
   "cell_type": "code",
   "execution_count": 132,
   "metadata": {},
   "outputs": [
    {
     "name": "stdout",
     "output_type": "stream",
     "text": [
      "[[ 0.00000000e+00  0.00000000e+00  0.00000000e+00  0.00000000e+00\n",
      "   0.00000000e+00  0.00000000e+00  0.00000000e+00  0.00000000e+00\n",
      "   0.00000000e+00]\n",
      " [-2.11034059e-02 -3.01200341e+00 -3.10920341e+00 -1.65211034e+01\n",
      "  -3.68603406e-01 -1.29710341e+00 -1.11034059e-02 -1.51034059e-02\n",
      "  -1.71034059e-02]\n",
      " [ 0.00000000e+00  0.00000000e+00  0.00000000e+00  0.00000000e+00\n",
      "   0.00000000e+00  0.00000000e+00  0.00000000e+00  0.00000000e+00\n",
      "   0.00000000e+00]\n",
      " [ 0.00000000e+00  0.00000000e+00  0.00000000e+00  0.00000000e+00\n",
      "   0.00000000e+00  0.00000000e+00  0.00000000e+00  0.00000000e+00\n",
      "   0.00000000e+00]\n",
      " [ 0.00000000e+00  0.00000000e+00  0.00000000e+00  0.00000000e+00\n",
      "   0.00000000e+00  0.00000000e+00  0.00000000e+00  0.00000000e+00\n",
      "   0.00000000e+00]\n",
      " [ 0.00000000e+00  0.00000000e+00  0.00000000e+00  0.00000000e+00\n",
      "   0.00000000e+00  0.00000000e+00  0.00000000e+00  0.00000000e+00\n",
      "   0.00000000e+00]]\n",
      "Accuracy: 0.01125\n",
      "CPU times: user 13.3 ms, sys: 4 ms, total: 17.3 ms\n",
      "Wall time: 14.5 ms\n"
     ]
    }
   ],
   "source": [
    "%%time\n",
    "# ds = load_iris()\n",
    "X = df_train.drop(\"Failure Type\", axis=1)\n",
    "y = df_train[\"Failure Type\"]\n",
    "custom_stochastic_descent_lr = multiclass_logistic_classifier(solver=stochastic_descent, learn_rate=0.001, iterations=10, constant=0.1, penalty=\"L1\")\n",
    "custom_stochastic_descent_lr.fit(X, y)\n",
    "y_hat = custom_stochastic_descent_lr.predict(X)\n",
    "print(\"Accuracy: \" + str(accuracy_score(y, y_hat)))"
   ]
  },
  {
   "cell_type": "code",
   "execution_count": 133,
   "metadata": {},
   "outputs": [
    {
     "name": "stdout",
     "output_type": "stream",
     "text": [
      "[[-1.08999157e-10 -1.69204070e-08 -1.73793587e-08 -7.46206959e-08\n",
      "  -3.00533103e-09 -6.30865670e-09 -5.82178247e-11 -9.04206208e-11\n",
      "  -6.68878082e-11]\n",
      " [-1.02555523e-12 -1.51556221e-10 -1.56601791e-10 -7.76120183e-10\n",
      "  -2.04765897e-11 -5.42324705e-11 -5.73257301e-13 -8.21541938e-13\n",
      "  -6.74905344e-13]\n",
      " [-1.51850900e-10 -2.27862279e-08 -2.35556718e-08 -1.02510600e-07\n",
      "  -4.38296463e-09 -1.58328485e-08 -7.73428041e-11 -1.48302896e-10\n",
      "  -7.85254723e-11]\n",
      " [-9.38194072e-11 -1.32562364e-08 -1.36923066e-08 -7.68859573e-08\n",
      "  -2.21694203e-09 -4.50483306e-09 -5.16839759e-11 -7.68394572e-11\n",
      "  -6.48906036e-11]\n",
      " [-5.18350942e-10 -7.71545294e-08 -7.96950611e-08 -3.82908323e-07\n",
      "  -1.11710082e-08 -3.22510304e-08 -3.10634510e-10 -4.38460007e-10\n",
      "  -2.94656323e-10]\n",
      " [-1.98991259e-10 -2.83999918e-08 -2.93336126e-08 -1.50783152e-07\n",
      "  -3.51451028e-09 -2.06042829e-08 -1.19660760e-10 -1.54367854e-10\n",
      "  -1.34535229e-10]]\n",
      "Accuracy: 0.01125\n",
      "CPU times: user 442 ms, sys: 195 ms, total: 637 ms\n",
      "Wall time: 282 ms\n"
     ]
    }
   ],
   "source": [
    "%%time\n",
    "# ds = load_iris()\n",
    "X = df_train.drop(\"Failure Type\", axis=1)\n",
    "y = df_train[\"Failure Type\"]\n",
    "custom_newton_lr = multiclass_logistic_classifier(solver=newton_method, learn_rate=0.001, iterations=10, constant=0.1, penalty=\"L1\")\n",
    "custom_newton_lr.fit(X, y)\n",
    "y_hat = custom_newton_lr.predict(X)\n",
    "print(\"Accuracy: \" + str(accuracy_score(y, y_hat)))"
   ]
  },
  {
   "cell_type": "markdown",
   "metadata": {},
   "source": [
    "A breakdown of our hyperparameters and the thinking behind their selection:\n",
    "\n",
    "- learn_rate: 0.001, A relatively high learning rate (especially compared to values like 1+e-0# which appear to be more typical in ML), which is used in conjuction with the iterations allowed to determine how far we need to be searching forward. Since we are only using 1 iteration, we need to tarvel across our function quickly to converge.\n",
    "- iterations: 10, Used to match Dr. Larson's iterations used for the sake of time comparisons.\n",
    "- constant: 0.1, Used to help emphasize the feature selection done by L1 in conjuction with RELU to hopefully sparsify our features quickly & find only the relevant terms. Still not too high at to not mistakenly wipe out relevant features.\n",
    "- penalty: L1, Since we have few features, outliers are a concern, prompting the usage of L1 to feature select and avoiding L2 since the sum of squares will explode if it runs into an outlier and penalize all of the other features that migth be relevant."
   ]
  },
  {
   "cell_type": "code",
   "execution_count": 955,
   "metadata": {
    "tags": []
   },
   "outputs": [
    {
     "name": "stdout",
     "output_type": "stream",
     "text": [
      "[[ 1.94761252e-03 -2.47104329e-01 -2.74058171e-01  1.00016301e-01\n",
      "  -9.64423844e-02  5.94341164e-02  2.53714878e-03  3.17629902e-03\n",
      "   1.92257497e-03]\n",
      " [-9.61896856e-03 -8.19365159e+00 -8.43160694e+00  4.69584498e+00\n",
      "  -1.05606840e+00  2.05569214e+00  1.34013532e-02  4.87586759e-03\n",
      "   6.74253400e-03]\n",
      " [ 1.41587434e-04 -1.03833600e-01 -1.06437677e-01  4.52186142e-02\n",
      "  -4.29847245e-03  3.57325297e-02  2.31900186e-04  1.35697453e-03\n",
      "  -4.78405820e-04]\n",
      " [ 1.76289180e-03  3.89865965e-01  4.06400813e-01 -1.67529372e-01\n",
      "   3.26342481e-01  2.37238729e-02  4.41219080e-04  1.54716736e-03\n",
      "   5.97560705e-04]\n",
      " [ 2.27530910e-04 -3.25944564e-02 -3.32099510e-02  1.81464873e-02\n",
      "  -1.09716224e-02 -7.12752208e-02  5.25417518e-04  3.65890094e-04\n",
      "   8.60874060e-06]\n",
      " [ 6.08485826e-04  6.49718751e-02  6.72239448e-02 -2.01611871e-02\n",
      "   2.56154342e-02 -5.50908272e-02  2.94986285e-04  4.77812377e-04\n",
      "   6.17848353e-04]]\n",
      "Accuracy: 0.96525\n",
      "CPU times: total: 62.5 ms\n",
      "Wall time: 64.5 ms\n"
     ]
    }
   ],
   "source": [
    "%%time\n",
    "# ds = load_iris()\n",
    "X = df_train.drop(\"Failure Type\", axis=1)\n",
    "y = df_train[\"Failure Type\"]\n",
    "custom_bfgs_lr = multiclass_logistic_classifier(solver=bfgs, learn_rate=0.001, iterations=10, constant=0.1, penalty=\"L1\")\n",
    "custom_bfgs_lr.fit(X, y)\n",
    "y_hat = custom_bfgs_lr.predict(X)\n",
    "print(\"Accuracy: \" + str(accuracy_score(y, y_hat)))"
   ]
  },
  {
   "cell_type": "code",
   "execution_count": 124,
   "metadata": {},
   "outputs": [
    {
     "name": "stdout",
     "output_type": "stream",
     "text": [
      "CPU times: user 4.11 s, sys: 1.03 s, total: 5.15 s\n",
      "Wall time: 1.82 s\n"
     ]
    },
    {
     "name": "stderr",
     "output_type": "stream",
     "text": [
      "/usr/local/lib/python3.9/site-packages/sklearn/utils/optimize.py:210: ConvergenceWarning: newton-cg failed to converge. Increase the number of iterations.\n",
      "  warnings.warn(\n"
     ]
    },
    {
     "data": {
      "text/plain": [
       "0.980625"
      ]
     },
     "execution_count": 124,
     "metadata": {},
     "output_type": "execute_result"
    }
   ],
   "source": [
    "%%time\n",
    "from sklearn.linear_model import LogisticRegression\n",
    "from sklearn import metrics\n",
    "from sklearn.metrics import accuracy_score\n",
    "\n",
    "X = df_train.drop(\"Failure Type\", axis=1)\n",
    "y = df_train[\"Failure Type\"]\n",
    "\n",
    "classifier = LogisticRegression(solver='newton-cg',penalty='l2', max_iter=100)\n",
    "classifier.fit(X, y)\n",
    "y_pred = classifier.predict(X)\n",
    "accuracy_score(y, y_pred)"
   ]
  },
  {
   "cell_type": "markdown",
   "metadata": {},
   "source": [
    "### Performance Comparison"
   ]
  },
  {
   "cell_type": "code",
   "execution_count": 85,
   "metadata": {},
   "outputs": [],
   "source": [
    "# I'll start this section since I need to compare performance between BFGS implementations anyways\n",
    "# Feel free to make stuff above this since the BFGS implementation is the \"last\" classifer we make if following the instructions\n",
    "\n",
    "# Using the example BFGS class...\n",
    "\n",
    "class BinaryLogisticRegression:\n",
    "    def __init__(self, eta, iterations=20, C=0.001):\n",
    "        self.eta = eta\n",
    "        self.iters = iterations\n",
    "        self.C = C\n",
    "        # internally we will store the weights as self.w_ to keep with sklearn conventions\n",
    "        \n",
    "    def __str__(self):\n",
    "        if(hasattr(self,'w_')):\n",
    "            return 'Binary Logistic Regression Object with coefficients:\\n'+ str(self.w_) # is we have trained the object\n",
    "        else:\n",
    "            return 'Untrained Binary Logistic Regression Object'\n",
    "        \n",
    "    # convenience, private:\n",
    "    @staticmethod\n",
    "    def _add_bias(X):\n",
    "        return np.hstack((np.ones((X.shape[0],1)),X)) # add bias term\n",
    "    \n",
    "    @staticmethod\n",
    "    def _sigmoid(theta):\n",
    "        # increase stability, redefine sigmoid operation\n",
    "        return expit(theta) #1/(1+np.exp(-theta))\n",
    "    \n",
    "    # vectorized gradient calculation with regularization using L2 Norm\n",
    "    def _get_gradient(self,X,y):\n",
    "        ydiff = y-self.predict_proba(X,add_bias=False).ravel() # get y difference\n",
    "        gradient = np.mean(X * ydiff[:,np.newaxis], axis=0) # make ydiff a column vector and multiply through\n",
    "        \n",
    "        gradient = gradient.reshape(self.w_.shape)\n",
    "        gradient[1:] += -2 * self.w_[1:] * self.C\n",
    "        \n",
    "        return gradient\n",
    "    \n",
    "    # public:\n",
    "    def predict_proba(self,X,add_bias=True):\n",
    "        # add bias term if requested\n",
    "        Xb = self._add_bias(X) if add_bias else X\n",
    "        return self._sigmoid(Xb @ self.w_) # return the probability y=1\n",
    "    \n",
    "    def predict(self,X):\n",
    "        return (self.predict_proba(X)>0.5) #return the actual prediction\n",
    "    \n",
    "    \n",
    "    def fit(self, X, y):\n",
    "        Xb = self._add_bias(X) # add bias term\n",
    "        num_samples, num_features = Xb.shape\n",
    "        \n",
    "        self.w_ = np.zeros((num_features,1)) # init weight vector to zeros\n",
    "        \n",
    "        # for as many as the max iterations\n",
    "        for _ in range(self.iters):\n",
    "            gradient = self._get_gradient(Xb,y)\n",
    "            self.w_ += gradient*self.eta # multiply by learning rate \n",
    "            # add bacause maximizing \n",
    "\n",
    "            \n",
    "class BFGSBinaryLogisticRegression(BinaryLogisticRegression):\n",
    "    \n",
    "    @staticmethod\n",
    "    def objective_function(w,X,y,C):\n",
    "        g = expit(X @ w)\n",
    "        # invert this because scipy minimizes, but we derived all formulas for maximzing\n",
    "        return -np.sum(ma.log(g[y==1]))-np.sum(ma.log(1-g[y==0])) + C*sum(w**2) \n",
    "        #-np.sum(y*np.log(g)+(1-y)*np.log(1-g))\n",
    "\n",
    "    @staticmethod\n",
    "    def objective_gradient(w,X,y,C):\n",
    "        g = expit(X @ w)\n",
    "        ydiff = y-g # get y difference\n",
    "        gradient = np.mean(X * ydiff[:,np.newaxis], axis=0)\n",
    "        gradient = gradient.reshape(w.shape)\n",
    "        gradient[1:] += -2 * w[1:] * C\n",
    "        return -gradient\n",
    "    \n",
    "    # just overwrite fit function\n",
    "    def fit(self, X, y):\n",
    "        Xb = self._add_bias(X) # add bias term\n",
    "        num_samples, num_features = Xb.shape\n",
    "        \n",
    "        self.w_ = fmin_bfgs(self.objective_function, # what to optimize\n",
    "                            np.zeros((num_features,1)), # starting point\n",
    "                            fprime=self.objective_gradient, # gradient function\n",
    "                            args=(Xb,y,self.C), # extra args for gradient and objective function\n",
    "                            gtol=1e-03, # stopping criteria for gradient, |v_k|\n",
    "                            maxiter=self.iters, # stopping criteria iterations\n",
    "                            disp=False)\n",
    "        \n",
    "        self.w_ = self.w_.reshape((num_features,1))\n",
    "\n",
    "        \n",
    "class MultiClassLogisticRegression:\n",
    "    def __init__(self, eta, iterations=20, \n",
    "                 C=0.0001, \n",
    "                 solver=BFGSBinaryLogisticRegression):\n",
    "        self.eta = eta\n",
    "        self.iters = iterations\n",
    "        self.C = C\n",
    "        self.solver = solver\n",
    "        self.classifiers_ = []\n",
    "        # internally we will store the weights as self.w_ to keep with sklearn conventions\n",
    "    \n",
    "    def __str__(self):\n",
    "        if(hasattr(self,'w_')):\n",
    "            return 'MultiClass Logistic Regression Object with coefficients:\\n'+ str(self.w_) # is we have trained the object\n",
    "        else:\n",
    "            return 'Untrained MultiClass Logistic Regression Object'\n",
    "        \n",
    "    def fit(self,X,y):\n",
    "        num_samples, num_features = X.shape\n",
    "        self.unique_ = np.sort(np.unique(y)) # get each unique class value\n",
    "        num_unique_classes = len(self.unique_)\n",
    "        self.classifiers_ = []\n",
    "        for i,yval in enumerate(self.unique_): # for each unique value\n",
    "            y_binary = np.array(y==yval).astype(int) # create a binary problem\n",
    "            # train the binary classifier for this class\n",
    "            \n",
    "            hblr = self.solver(eta=self.eta,iterations=self.iters,C=self.C)\n",
    "            hblr.fit(X,y_binary)\n",
    "\n",
    "            # add the trained classifier to the list\n",
    "            self.classifiers_.append(hblr)\n",
    "            \n",
    "        # save all the weights into one matrix, separate column for each class\n",
    "        self.w_ = np.hstack([x.w_ for x in self.classifiers_]).T\n",
    "        \n",
    "    def predict_proba(self,X):\n",
    "        probs = []\n",
    "        for hblr in self.classifiers_:\n",
    "            probs.append(hblr.predict_proba(X).reshape((len(X),1))) # get probability for each classifier\n",
    "        \n",
    "        return np.hstack(probs) # make into single matrix\n",
    "    \n",
    "    def predict(self,X):\n",
    "        return np.argmax(self.predict_proba(X),axis=1) # take argmax along row\n"
   ]
  },
  {
   "cell_type": "code",
   "execution_count": 953,
   "metadata": {},
   "outputs": [
    {
     "name": "stdout",
     "output_type": "stream",
     "text": [
      "MultiClass Logistic Regression Object with coefficients:\n",
      "[[-6.29163163e-04 -1.88702204e-01 -1.95025640e-01 -9.70160828e-01\n",
      "  -2.50199122e-02 -6.79549317e-02 -6.44449736e-05 -3.73796938e-04\n",
      "  -1.90921252e-04]\n",
      " [ 6.29913133e-04  1.88919241e-01  1.95251857e-01  9.70189856e-01\n",
      "   2.47614334e-02  6.63639380e-02  6.59191740e-05  3.70128969e-04\n",
      "   1.93864990e-04]\n",
      " [-6.29822879e-04 -1.88937962e-01 -1.95240897e-01 -9.70127719e-01\n",
      "  -2.50633788e-02 -6.71334296e-02 -6.49639686e-05 -3.71884760e-04\n",
      "  -1.92974150e-04]\n",
      " [-6.32636374e-04 -1.89781035e-01 -1.96114670e-01 -9.69696239e-01\n",
      "  -2.52360183e-02 -6.83663662e-02 -6.49581991e-05 -3.76192701e-04\n",
      "  -1.91485474e-04]\n",
      " [-6.30806902e-04 -1.89232053e-01 -1.95546333e-01 -9.69934373e-01\n",
      "  -2.52604693e-02 -6.81285697e-02 -6.40143983e-05 -3.75382331e-04\n",
      "  -1.91410173e-04]\n",
      " [-6.31007020e-04 -1.89290695e-01 -1.95607680e-01 -9.69946990e-01\n",
      "  -2.52948275e-02 -6.75950952e-02 -6.45330004e-05 -3.75898759e-04\n",
      "  -1.90575260e-04]]\n",
      "Accuracy of:  0.96525\n",
      "CPU times: total: 344 ms\n",
      "Wall time: 272 ms\n"
     ]
    }
   ],
   "source": [
    "%%time\n",
    "X = df_train.drop(\"Failure Type\", axis=1)\n",
    "y_not_binary = df_train[\"Failure Type\"]\n",
    "\n",
    "bfgs_lr = MultiClassLogisticRegression(eta=1,\n",
    "                                  iterations=10,\n",
    "                                  C=0.01,\n",
    "                                  solver=BFGSBinaryLogisticRegression\n",
    "                                 )\n",
    "bfgs_lr.fit(X,y_not_binary)\n",
    "print(bfgs_lr)\n",
    "\n",
    "yhat = bfgs_lr.predict(X)\n",
    "print('Accuracy of: ',accuracy_score(y_not_binary,yhat))"
   ]
  },
  {
   "cell_type": "markdown",
   "metadata": {},
   "source": [
    "As we can see from the immediate comparison, we end up with both implementations of BFGS getting the same 96.5% accuracy on our dataset, albeit through a vastly different set of weights. However, we should also consider the speed: both CPU and wall times see a significant slowdown in the scipy implementation, with a speed several (3~4x) times slower than our custom implemntation. Of course, the absolute magnitude of these values is small enough that CPU jitter is going to significantly affect the results, but there are other considerations to keep in mind.\n",
    "\n",
    "For instance, the scipy implementation computes the inverse hessian through the Sherman-Morrison algorithm just like ours, but where we use the expanded form to avoid computing matrix inverses, they instead utilize these temporary matrices, which may result in inefficiencies. We also do not use a line search algorithm to find our learning rate on each iteration (as it was not delineated as one of the steps in the instructions), and instead we tune an aggregate manually until good results are achieved. This avoids needing to run the line search, but also in effect means needing to run BFGS multiple times to optimize this hyperparameter, effectively making it more difficult to apply with good results and take longer overall.\n",
    "\n",
    "As such, we would still recommend using the scipy implementation of BFGS, although perhaps an improved version using the expanded Sherman-Morrison formula could be used to increase speed performance?"
   ]
  },
  {
   "cell_type": "markdown",
   "metadata": {},
   "source": [
    "## Testing"
   ]
  },
  {
   "cell_type": "markdown",
   "metadata": {},
   "source": [
    "### Scikit-Learn's Logistic Regression Prediction\n"
   ]
  },
  {
   "cell_type": "code",
   "execution_count": 137,
   "metadata": {},
   "outputs": [
    {
     "data": {
      "text/plain": [
       "0.984"
      ]
     },
     "execution_count": 137,
     "metadata": {},
     "output_type": "execute_result"
    }
   ],
   "source": [
    "X = df_test.drop(\"Failure Type\", axis=1)\n",
    "y = df_test[\"Failure Type\"]\n",
    "y_pred = classifier.predict(X)\n",
    "accuracy_score(y, y_pred)"
   ]
  },
  {
   "cell_type": "markdown",
   "metadata": {},
   "source": [
    "### Steepest Descent"
   ]
  },
  {
   "cell_type": "code",
   "execution_count": 105,
   "metadata": {},
   "outputs": [
    {
     "name": "stdout",
     "output_type": "stream",
     "text": [
      "[[-2.20010249e-04 -3.41531352e-02 -3.50795102e-02 -1.50618760e-01\n",
      "  -6.06613525e-03 -1.27337602e-02 -1.17510249e-04 -1.82510249e-04\n",
      "  -1.35010249e-04]\n",
      " [-1.96614779e-02 -2.90556685e+00 -3.00229823e+00 -1.48794227e+01\n",
      "  -3.92567853e-01 -1.03972023e+00 -1.09902279e-02 -1.57502279e-02\n",
      "  -1.29389779e-02]\n",
      " [-1.60496094e-04 -2.40834961e-02 -2.48967461e-02 -1.08346746e-01\n",
      "  -4.63249609e-03 -1.67342461e-02 -8.17460937e-05 -1.56746094e-04\n",
      "  -8.29960937e-05]\n",
      " [-1.86479054e-04 -2.63486041e-02 -2.72153541e-02 -1.52821479e-01\n",
      "  -4.40647905e-03 -8.95397905e-03 -1.02729054e-04 -1.52729054e-04\n",
      "  -1.28979054e-04]\n",
      " [-4.05514515e-05 -6.03592645e-03 -6.23467645e-03 -2.99555515e-02\n",
      "  -8.73926452e-04 -2.52305145e-03 -2.43014515e-05 -3.43014515e-05\n",
      "  -2.30514515e-05]\n",
      " [-1.00335313e-04 -1.43198353e-02 -1.47905853e-02 -7.60278353e-02\n",
      "  -1.77208531e-03 -1.03890853e-02 -6.03353126e-05 -7.78353126e-05\n",
      "  -6.78353126e-05]]\n",
      "Accuracy: 0.011\n",
      "CPU times: user 5.68 ms, sys: 3.38 ms, total: 9.06 ms\n",
      "Wall time: 11.8 ms\n"
     ]
    }
   ],
   "source": [
    "%%time\n",
    "# ds = load_iris()\n",
    "X = df_test.drop(\"Failure Type\", axis=1)\n",
    "y = df_test[\"Failure Type\"]\n",
    "# We already have a model/agent fit on the training data\n",
    "#lr = multiclass_logistic_classifier(solver=bfgs, learn_rate=0.001, iterations=10, constant=0.1, penalty=\"L1\")\n",
    "#lr.fit(X, y) \n",
    "y_hat = custom_steepest_descent_lr.predict(X)\n",
    "print(\"Accuracy: \" + str(accuracy_score(y, y_hat)))"
   ]
  },
  {
   "cell_type": "markdown",
   "metadata": {},
   "source": [
    "### Stochastic Descent"
   ]
  },
  {
   "cell_type": "code",
   "execution_count": 136,
   "metadata": {},
   "outputs": [
    {
     "name": "stdout",
     "output_type": "stream",
     "text": [
      "[[ 0.00000000e+00  0.00000000e+00  0.00000000e+00  0.00000000e+00\n",
      "   0.00000000e+00  0.00000000e+00  0.00000000e+00  0.00000000e+00\n",
      "   0.00000000e+00]\n",
      " [-2.11034059e-02 -3.01200341e+00 -3.10920341e+00 -1.65211034e+01\n",
      "  -3.68603406e-01 -1.29710341e+00 -1.11034059e-02 -1.51034059e-02\n",
      "  -1.71034059e-02]\n",
      " [ 0.00000000e+00  0.00000000e+00  0.00000000e+00  0.00000000e+00\n",
      "   0.00000000e+00  0.00000000e+00  0.00000000e+00  0.00000000e+00\n",
      "   0.00000000e+00]\n",
      " [ 0.00000000e+00  0.00000000e+00  0.00000000e+00  0.00000000e+00\n",
      "   0.00000000e+00  0.00000000e+00  0.00000000e+00  0.00000000e+00\n",
      "   0.00000000e+00]\n",
      " [ 0.00000000e+00  0.00000000e+00  0.00000000e+00  0.00000000e+00\n",
      "   0.00000000e+00  0.00000000e+00  0.00000000e+00  0.00000000e+00\n",
      "   0.00000000e+00]\n",
      " [ 0.00000000e+00  0.00000000e+00  0.00000000e+00  0.00000000e+00\n",
      "   0.00000000e+00  0.00000000e+00  0.00000000e+00  0.00000000e+00\n",
      "   0.00000000e+00]]\n",
      "Accuracy: 0.011\n",
      "CPU times: user 5.96 ms, sys: 1.89 ms, total: 7.84 ms\n",
      "Wall time: 10.7 ms\n"
     ]
    }
   ],
   "source": [
    "%%time\n",
    "# ds = load_iris()\n",
    "X = df_test.drop(\"Failure Type\", axis=1)\n",
    "y = df_test[\"Failure Type\"]\n",
    "# We already have a model/agent fit on the training data\n",
    "# lr = multiclass_logistic_classifier(solver=bfgs, learn_rate=0.001, iterations=10, constant=0.1, penalty=\"L1\")\n",
    "# lr.fit(X, y) \n",
    "y_hat = custom_stochastic_descent_lr.predict(X)\n",
    "print(\"Accuracy: \" + str(accuracy_score(y, y_hat)))"
   ]
  },
  {
   "cell_type": "markdown",
   "metadata": {},
   "source": [
    "### Newton Method"
   ]
  },
  {
   "cell_type": "code",
   "execution_count": 106,
   "metadata": {},
   "outputs": [
    {
     "name": "stdout",
     "output_type": "stream",
     "text": [
      "[[-1.08999157e-10 -1.69204070e-08 -1.73793587e-08 -7.46206959e-08\n",
      "  -3.00533103e-09 -6.30865670e-09 -5.82178247e-11 -9.04206208e-11\n",
      "  -6.68878082e-11]\n",
      " [-1.02555523e-12 -1.51556221e-10 -1.56601791e-10 -7.76120183e-10\n",
      "  -2.04765897e-11 -5.42324705e-11 -5.73257301e-13 -8.21541938e-13\n",
      "  -6.74905344e-13]\n",
      " [-1.51850900e-10 -2.27862279e-08 -2.35556718e-08 -1.02510600e-07\n",
      "  -4.38296463e-09 -1.58328485e-08 -7.73428041e-11 -1.48302896e-10\n",
      "  -7.85254723e-11]\n",
      " [-9.38194072e-11 -1.32562364e-08 -1.36923066e-08 -7.68859573e-08\n",
      "  -2.21694203e-09 -4.50483306e-09 -5.16839759e-11 -7.68394572e-11\n",
      "  -6.48906036e-11]\n",
      " [-5.18350942e-10 -7.71545294e-08 -7.96950611e-08 -3.82908323e-07\n",
      "  -1.11710082e-08 -3.22510304e-08 -3.10634510e-10 -4.38460007e-10\n",
      "  -2.94656323e-10]\n",
      " [-1.98991259e-10 -2.83999918e-08 -2.93336126e-08 -1.50783152e-07\n",
      "  -3.51451028e-09 -2.06042829e-08 -1.19660760e-10 -1.54367854e-10\n",
      "  -1.34535229e-10]]\n",
      "Accuracy: 0.011\n",
      "CPU times: user 5.12 ms, sys: 2.52 ms, total: 7.64 ms\n",
      "Wall time: 9.14 ms\n"
     ]
    }
   ],
   "source": [
    "%%time\n",
    "# ds = load_iris()\n",
    "X = df_test.drop(\"Failure Type\", axis=1)\n",
    "y = df_test[\"Failure Type\"]\n",
    "# We already have a model/agent fit on the training data\n",
    "#lr = multiclass_logistic_classifier(solver=bfgs, learn_rate=0.001, iterations=10, constant=0.1, penalty=\"L1\")\n",
    "#lr.fit(X, y) \n",
    "y_hat = custom_newton_lr.predict(X)\n",
    "print(\"Accuracy: \" + str(accuracy_score(y, y_hat)))"
   ]
  },
  {
   "cell_type": "markdown",
   "metadata": {},
   "source": [
    "### BFGS"
   ]
  },
  {
   "cell_type": "code",
   "execution_count": 957,
   "metadata": {},
   "outputs": [
    {
     "name": "stdout",
     "output_type": "stream",
     "text": [
      "[[ 1.94761252e-03 -2.47104329e-01 -2.74058171e-01  1.00016301e-01\n",
      "  -9.64423844e-02  5.94341164e-02  2.53714878e-03  3.17629902e-03\n",
      "   1.92257497e-03]\n",
      " [-9.61896856e-03 -8.19365159e+00 -8.43160694e+00  4.69584498e+00\n",
      "  -1.05606840e+00  2.05569214e+00  1.34013532e-02  4.87586759e-03\n",
      "   6.74253400e-03]\n",
      " [ 1.41587434e-04 -1.03833600e-01 -1.06437677e-01  4.52186142e-02\n",
      "  -4.29847245e-03  3.57325297e-02  2.31900186e-04  1.35697453e-03\n",
      "  -4.78405820e-04]\n",
      " [ 1.76289180e-03  3.89865965e-01  4.06400813e-01 -1.67529372e-01\n",
      "   3.26342481e-01  2.37238729e-02  4.41219080e-04  1.54716736e-03\n",
      "   5.97560705e-04]\n",
      " [ 2.27530910e-04 -3.25944564e-02 -3.32099510e-02  1.81464873e-02\n",
      "  -1.09716224e-02 -7.12752208e-02  5.25417518e-04  3.65890094e-04\n",
      "   8.60874060e-06]\n",
      " [ 6.08485826e-04  6.49718751e-02  6.72239448e-02 -2.01611871e-02\n",
      "   2.56154342e-02 -5.50908272e-02  2.94986285e-04  4.77812377e-04\n",
      "   6.17848353e-04]]\n",
      "Accuracy: 0.965\n",
      "CPU times: total: 15.6 ms\n",
      "Wall time: 4.01 ms\n"
     ]
    }
   ],
   "source": [
    "%%time\n",
    "# ds = load_iris()\n",
    "X = df_test.drop(\"Failure Type\", axis=1)\n",
    "y = df_test[\"Failure Type\"]\n",
    "# We already have a model/agent fit on the training data\n",
    "#lr = multiclass_logistic_classifier(solver=bfgs, learn_rate=0.001, iterations=10, constant=0.1, penalty=\"L1\")\n",
    "#lr.fit(X, y) \n",
    "y_hat = custom_bfgs_lr.predict(X)\n",
    "print(\"Accuracy: \" + str(accuracy_score(y, y_hat)))"
   ]
  },
  {
   "cell_type": "markdown",
   "metadata": {},
   "source": [
    "With only ~2000 samples the time remains, as expected, fairly small (especially since we are only inferencing and not training), but achieving a nearly identical accuracy on the testing dataset than the training dataset is a great result! It appears that we were able to successfully meet our goal of creating an accurate & robust classifier, at least as far as the BFGS algorithm implementation is concerned.\n",
    "\n",
    "We can also see that the Scikit-Learn classifier improves upon our own classifiers with a 98.4% accuracy on the testing data. Our Scikit learn classifier used the 'newton-cg' solver with L2 regularization, and with maximum iteration count of 100. Although our implementations used various optimization techniques, Scikit-Learn still managed to outperform our own implementations; this could be attributed to the implementation details of Scikit learns algorithms being well tested and optimized for performance. Scikit learn also has many more tuneable parameters than our own Classifiers, which increases its versatility in creating better models."
   ]
  },
  {
   "cell_type": "markdown",
   "metadata": {},
   "source": [
    "## Deployment\n",
    "\n",
    "I would use Scikit-Learn's implementation because most algorithms are implemented in C++ and they do not use the standard Python interpreter as a base for their implementation. They also provide much better error messages and debugging information, and the community for SciKit-Learn is enormous and many people are familiar with its API. Hence, if one has a question about some issue or about a bug in the implementation, there exists a lot of people willing to help. Also the development team for Scikit-Learn is highly active and patching fixes and optimizations actively."
   ]
  }
 ],
 "metadata": {
  "kernelspec": {
   "display_name": "school-ipython-kernel",
   "language": "python",
   "name": "school-ipython-kernel"
  },
  "language_info": {
   "codemirror_mode": {
    "name": "ipython",
    "version": 3
   },
   "file_extension": ".py",
   "mimetype": "text/x-python",
   "name": "python",
   "nbconvert_exporter": "python",
   "pygments_lexer": "ipython3",
   "version": "3.9.16"
  },
  "vscode": {
   "interpreter": {
    "hash": "aee8b7b246df8f9039afb4144a1f6fd8d2ca17a180786b69acc140d282b71a49"
   }
  }
 },
 "nbformat": 4,
 "nbformat_minor": 4
}
